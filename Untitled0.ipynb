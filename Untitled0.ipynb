{
  "nbformat": 4,
  "nbformat_minor": 0,
  "metadata": {
    "colab": {
      "provenance": [],
      "authorship_tag": "ABX9TyMlhj4xtNiHi86O3tfrAmtu",
      "include_colab_link": true
    },
    "kernelspec": {
      "name": "python3",
      "display_name": "Python 3"
    },
    "language_info": {
      "name": "python"
    }
  },
  "cells": [
    {
      "cell_type": "markdown",
      "metadata": {
        "id": "view-in-github",
        "colab_type": "text"
      },
      "source": [
        "<a href=\"https://colab.research.google.com/github/Slavina73/project_01/blob/main/Untitled0.ipynb\" target=\"_parent\"><img src=\"https://colab.research.google.com/assets/colab-badge.svg\" alt=\"Open In Colab\"/></a>"
      ]
    },
    {
      "cell_type": "code",
      "execution_count": 10,
      "metadata": {
        "colab": {
          "base_uri": "https://localhost:8080/"
        },
        "id": "fvbCFf-h7XqV",
        "outputId": "56426a56-73d0-4548-f33a-6237165b708d"
      },
      "outputs": [
        {
          "output_type": "stream",
          "name": "stdout",
          "text": [
            "на ноль делить нельзя\n"
          ]
        }
      ],
      "source": [
        "a = 10\n",
        "b = 0\n",
        "\n",
        "try:\n",
        "  x = a // b\n",
        "  print(x)\n",
        "except ZeroDivisionError:\n",
        "  print(\"на ноль делить нельзя\")\n",
        "\n",
        "\n"
      ]
    },
    {
      "cell_type": "code",
      "source": [
        "import random\n",
        "a = random.randit(1,6)\n",
        "b = random.randit(1,6)\n",
        "c = random.randit(1,6)\n",
        "d = random.randit(1,6)\n",
        " (\"Случайное число из списка\", random.choice(x))"
      ],
      "metadata": {
        "id": "aHKX7b-8Ds1h"
      },
      "execution_count": null,
      "outputs": []
    }
  ]
}